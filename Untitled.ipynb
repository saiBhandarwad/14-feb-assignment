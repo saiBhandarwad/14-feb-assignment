{
 "cells": [
  {
   "cell_type": "code",
   "execution_count": null,
   "id": "1dc55580-caac-4f9f-8102-b595741b71c1",
   "metadata": {},
   "outputs": [],
   "source": [
    "# Q1.ANS=>\n",
    "'''Multithreading allows the programmer to divide application tasks into sub-tasks and simultaneously run them in a program. It allows threads to \n",
    "communicate and share resources such as files, data, and memory to the same processor.'''\n",
    "'''Multithreading is useful for IO-bound processes, such as reading files from a network or database since each thread can run the IO-bound process\n",
    "concurrently,Multithreading in an interactive application may allow a program to continue running even if a part of it is blocked or is performing \n",
    "a lengthy operation, thereby increasing responsiveness to the user'''\n",
    "# threading is the module used to handle threads in python"
   ]
  },
  {
   "cell_type": "code",
   "execution_count": null,
   "id": "731aaad2-d168-4847-98fe-6be4ca1fb6a3",
   "metadata": {},
   "outputs": [],
   "source": [
    "# Q2.ANS=>\n",
    "\n",
    "'''Multithreading is useful for IO-bound processes, such as reading files from a network or database since each thread can run the IO-bound process\n",
    "concurrently,Multithreading in an interactive application may allow a program to continue running even if a part of it is blocked or is performing \n",
    "a lengthy operation, thereby increasing responsiveness to the user'''\n",
    "'''Multithreading allows the programmer to divide application tasks into sub-tasks and simultaneously run them in a program. It allows threads to \n",
    "communicate and share resources such as files, data, and memory to the same processor.'''\n",
    "\n",
    "'''threading.activeCount() − Returns the number of thread objects that are active. \n",
    "threading.currentThread() − Returns the number of thread objects in the caller's thread control. \n",
    "threading.enumerate() − Returns a list of all thread objects that are currently active.'''\n"
   ]
  },
  {
   "cell_type": "code",
   "execution_count": null,
   "id": "8ab2b7a9-7d22-461f-a2ee-5232030cb9b3",
   "metadata": {},
   "outputs": [],
   "source": [
    "# Q3.ANS=>\n",
    "# run()\n",
    "'''run() method invokes the callable object passed to the object's constructor as the target argument, if any, with positional and keyword arguments \n",
    "taken from the args and kwargs arguments, respectively'''\n",
    "\n",
    "# start()\n",
    "'''Starts a python thread. A thread is started after some fractional delta time, as the thread needs to be initialised. before it is executed in\n",
    "the operating system context.'''\n",
    "\n",
    "# join()\n",
    "'''The join() method takes all items in an iterable and joins them into one string.'''\n",
    "\n",
    "# is_alive()\n",
    "'''is_alive() method is an inbuilt method of the Thread class of the threading module in Python. It uses a Thread object, and checks whether that \n",
    "thread is alive or not, ie, it is still running or not. '''"
   ]
  },
  {
   "cell_type": "code",
   "execution_count": 32,
   "id": "099c9954-a60c-491f-b3a1-96027f9f7695",
   "metadata": {},
   "outputs": [
    {
     "name": "stdout",
     "output_type": "stream",
     "text": [
      "[1, 8, 27, 64, 125, 216, 343, 512, 729]\n",
      "[1, 4, 9, 16, 25, 36, 49, 64, 81]\n"
     ]
    }
   ],
   "source": [
    "# Q4.ANS=>\n",
    "import threading\n",
    "l1=[1,2,3,4,5,6,7,8,9]\n",
    "cube_list=[]\n",
    "square_list=[]\n",
    "\n",
    "def cube(a):\n",
    "    if a<(len(l1)):\n",
    "        x=a*a*a\n",
    "        cube_list.append(x)\n",
    "    else:\n",
    "        x=a*a*a\n",
    "        cube_list.append(x)\n",
    "        print(cube_list)\n",
    "    \n",
    "def square(a):\n",
    "    if a<(len(l1)):\n",
    "        x=a*a\n",
    "        square_list.append(x)\n",
    "    else:\n",
    "        x=a*a\n",
    "        square_list.append(x)\n",
    "        print(square_list)\n",
    "    \n",
    "thread1=[threading.Thread(target=cube, args=(i,) ) for i in l1]\n",
    "thread2=[threading.Thread(target=square, args=(i,) ) for i in l1]\n",
    "\n",
    "for t in thread1:\n",
    "    t.start()\n",
    "for t in thread2:\n",
    "    t.start()"
   ]
  },
  {
   "cell_type": "code",
   "execution_count": null,
   "id": "7aed5588-6a6e-4dac-9796-3b3b98a097c3",
   "metadata": {},
   "outputs": [],
   "source": [
    "# Q5.ANS=>\n",
    "# Benefits of Multithreading:\n",
    "'''Multithreading enables efficient utilization of the resources as the threads share the data space and memory. \n",
    "Multithreading in Python allows the concurrent and parallel occurrence of various tasks. \n",
    "It causes a reduction in time consumption or response time, thereby increasing the performance\n",
    "Multithreading in Python streamlines the efficient utilization of resources as the threads share the same memory and data space.\n",
    "This model provides more concurrency than the many-to-one model. It also allows another thread to run when a thread makes a blocking system call. \n",
    "It supports multiple threads to execute in parallel on microprocessors'''\n",
    "\n",
    "# disadvantages of  Multithreading:\n",
    "'''Disadvantage of multithreading is that creating user thread requires the corresponding Kernel thread.\n",
    "Difficulty of writing code. Multithreaded and multicontexted applications are not easy to write. ...\n",
    "Difficulty of debugging.\n",
    "Difficulty of managing concurrency. \n",
    "Difficulty of testing. \n",
    "Difficulty of porting existing code'''"
   ]
  },
  {
   "cell_type": "code",
   "execution_count": null,
   "id": "14688fab-7c6b-4cda-a321-0df1977c4f45",
   "metadata": {},
   "outputs": [],
   "source": [
    "# Q6.ANS=>\n",
    "# race\n",
    "'''Race conditions occur when two threads interact in a negatve (buggy) way depending on the exact order that their different instructions are \n",
    "executed\n",
    "A race condition occurs when two threads access a shared variable at the same time. The first thread reads the variable, and the second thread reads \n",
    "the same value from the variable'''\n",
    "\n",
    "# deadlock\n",
    "'''\n",
    "A deadlock is a concurrency failure mode where a thread or threads wait for a condition that never occurs. The result is that the deadlock threads\n",
    "are unable to progress and the program is stuck or frozen and must be terminated forcefully'''"
   ]
  },
  {
   "cell_type": "code",
   "execution_count": null,
   "id": "2b035d72-5a6f-44d7-a3ef-2132f9c1f873",
   "metadata": {},
   "outputs": [],
   "source": []
  }
 ],
 "metadata": {
  "kernelspec": {
   "display_name": "Python 3 (ipykernel)",
   "language": "python",
   "name": "python3"
  },
  "language_info": {
   "codemirror_mode": {
    "name": "ipython",
    "version": 3
   },
   "file_extension": ".py",
   "mimetype": "text/x-python",
   "name": "python",
   "nbconvert_exporter": "python",
   "pygments_lexer": "ipython3",
   "version": "3.10.8"
  }
 },
 "nbformat": 4,
 "nbformat_minor": 5
}
